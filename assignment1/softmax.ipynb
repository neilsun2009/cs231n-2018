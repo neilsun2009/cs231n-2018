{
 "cells": [
  {
   "cell_type": "markdown",
   "metadata": {},
   "source": [
    "# Softmax exercise\n",
    "\n",
    "*Complete and hand in this completed worksheet (including its outputs and any supporting code outside of the worksheet) with your assignment submission. For more details see the [assignments page](http://vision.stanford.edu/teaching/cs231n/assignments.html) on the course website.*\n",
    "\n",
    "This exercise is analogous to the SVM exercise. You will:\n",
    "\n",
    "- implement a fully-vectorized **loss function** for the Softmax classifier\n",
    "- implement the fully-vectorized expression for its **analytic gradient**\n",
    "- **check your implementation** with numerical gradient\n",
    "- use a validation set to **tune the learning rate and regularization** strength\n",
    "- **optimize** the loss function with **SGD**\n",
    "- **visualize** the final learned weights\n"
   ]
  },
  {
   "cell_type": "code",
   "execution_count": 1,
   "metadata": {
    "collapsed": true
   },
   "outputs": [],
   "source": [
    "import random\n",
    "import numpy as np\n",
    "from cs231n.data_utils import load_CIFAR10\n",
    "import matplotlib.pyplot as plt\n",
    "\n",
    "from __future__ import print_function\n",
    "\n",
    "%matplotlib inline\n",
    "plt.rcParams['figure.figsize'] = (10.0, 8.0) # set default size of plots\n",
    "plt.rcParams['image.interpolation'] = 'nearest'\n",
    "plt.rcParams['image.cmap'] = 'gray'\n",
    "\n",
    "# for auto-reloading extenrnal modules\n",
    "# see http://stackoverflow.com/questions/1907993/autoreload-of-modules-in-ipython\n",
    "%load_ext autoreload\n",
    "%autoreload 2"
   ]
  },
  {
   "cell_type": "code",
   "execution_count": 2,
   "metadata": {
    "collapsed": false
   },
   "outputs": [
    {
     "name": "stdout",
     "output_type": "stream",
     "text": [
      "Train data shape:  (49000, 3073)\n",
      "Train labels shape:  (49000,)\n",
      "Validation data shape:  (1000, 3073)\n",
      "Validation labels shape:  (1000,)\n",
      "Test data shape:  (1000, 3073)\n",
      "Test labels shape:  (1000,)\n",
      "dev data shape:  (500, 3073)\n",
      "dev labels shape:  (500,)\n"
     ]
    }
   ],
   "source": [
    "def get_CIFAR10_data(num_training=49000, num_validation=1000, num_test=1000, num_dev=500):\n",
    "    \"\"\"\n",
    "    Load the CIFAR-10 dataset from disk and perform preprocessing to prepare\n",
    "    it for the linear classifier. These are the same steps as we used for the\n",
    "    SVM, but condensed to a single function.  \n",
    "    \"\"\"\n",
    "    # Load the raw CIFAR-10 data\n",
    "    cifar10_dir = 'cs231n/datasets/cifar-10-batches-py'\n",
    "    \n",
    "    X_train, y_train, X_test, y_test = load_CIFAR10(cifar10_dir)\n",
    "    \n",
    "    # subsample the data\n",
    "    mask = list(range(num_training, num_training + num_validation))\n",
    "    X_val = X_train[mask]\n",
    "    y_val = y_train[mask]\n",
    "    mask = list(range(num_training))\n",
    "    X_train = X_train[mask]\n",
    "    y_train = y_train[mask]\n",
    "    mask = list(range(num_test))\n",
    "    X_test = X_test[mask]\n",
    "    y_test = y_test[mask]\n",
    "    mask = np.random.choice(num_training, num_dev, replace=False)\n",
    "    X_dev = X_train[mask]\n",
    "    y_dev = y_train[mask]\n",
    "    \n",
    "    # Preprocessing: reshape the image data into rows\n",
    "    X_train = np.reshape(X_train, (X_train.shape[0], -1))\n",
    "    X_val = np.reshape(X_val, (X_val.shape[0], -1))\n",
    "    X_test = np.reshape(X_test, (X_test.shape[0], -1))\n",
    "    X_dev = np.reshape(X_dev, (X_dev.shape[0], -1))\n",
    "    \n",
    "    # Normalize the data: subtract the mean image\n",
    "    mean_image = np.mean(X_train, axis = 0)\n",
    "    X_train -= mean_image\n",
    "    X_val -= mean_image\n",
    "    X_test -= mean_image\n",
    "    X_dev -= mean_image\n",
    "    \n",
    "    # add bias dimension and transform into columns\n",
    "    X_train = np.hstack([X_train, np.ones((X_train.shape[0], 1))])\n",
    "    X_val = np.hstack([X_val, np.ones((X_val.shape[0], 1))])\n",
    "    X_test = np.hstack([X_test, np.ones((X_test.shape[0], 1))])\n",
    "    X_dev = np.hstack([X_dev, np.ones((X_dev.shape[0], 1))])\n",
    "    \n",
    "    return X_train, y_train, X_val, y_val, X_test, y_test, X_dev, y_dev\n",
    "\n",
    "\n",
    "# Cleaning up variables to prevent loading data multiple times (which may cause memory issue)\n",
    "try:\n",
    "   del X_train, y_train\n",
    "   del X_test, y_test\n",
    "   print('Clear previously loaded data.')\n",
    "except:\n",
    "   pass\n",
    "\n",
    "# Invoke the above function to get our data.\n",
    "X_train, y_train, X_val, y_val, X_test, y_test, X_dev, y_dev = get_CIFAR10_data()\n",
    "print('Train data shape: ', X_train.shape)\n",
    "print('Train labels shape: ', y_train.shape)\n",
    "print('Validation data shape: ', X_val.shape)\n",
    "print('Validation labels shape: ', y_val.shape)\n",
    "print('Test data shape: ', X_test.shape)\n",
    "print('Test labels shape: ', y_test.shape)\n",
    "print('dev data shape: ', X_dev.shape)\n",
    "print('dev labels shape: ', y_dev.shape)"
   ]
  },
  {
   "cell_type": "markdown",
   "metadata": {},
   "source": [
    "## Softmax Classifier\n",
    "\n",
    "Your code for this section will all be written inside **cs231n/classifiers/softmax.py**. \n"
   ]
  },
  {
   "cell_type": "code",
   "execution_count": 6,
   "metadata": {
    "collapsed": false
   },
   "outputs": [
    {
     "name": "stdout",
     "output_type": "stream",
     "text": [
      "loss: 2.334339\n",
      "sanity check: 2.302585\n"
     ]
    }
   ],
   "source": [
    "# First implement the naive softmax loss function with nested loops.\n",
    "# Open the file cs231n/classifiers/softmax.py and implement the\n",
    "# softmax_loss_naive function.\n",
    "\n",
    "from cs231n.classifiers.softmax import softmax_loss_naive\n",
    "import time\n",
    "\n",
    "# Generate a random softmax weight matrix and use it to compute the loss.\n",
    "W = np.random.randn(3073, 10) * 0.0001\n",
    "loss, grad = softmax_loss_naive(W, X_dev, y_dev, 0.0)\n",
    "\n",
    "# As a rough sanity check, our loss should be something close to -log(0.1).\n",
    "print('loss: %f' % loss)\n",
    "print('sanity check: %f' % (-np.log(0.1)))"
   ]
  },
  {
   "cell_type": "markdown",
   "metadata": {},
   "source": [
    "## Inline Question 1:\n",
    "Why do we expect our loss to be close to -log(0.1)? Explain briefly.**\n",
    "\n",
    "**Your answer:**  Because the weights are same for every parameter, therefore every class will have the same value calculated. Then according to the formular, the loss will be -log(1/10).\n"
   ]
  },
  {
   "cell_type": "code",
   "execution_count": 7,
   "metadata": {
    "collapsed": false
   },
   "outputs": [
    {
     "name": "stdout",
     "output_type": "stream",
     "text": [
      "numerical: 0.752525 analytic: 0.752525, relative error: 2.619670e-08\n",
      "numerical: -0.329662 analytic: -0.329662, relative error: 6.223040e-08\n",
      "numerical: -0.008391 analytic: -0.008391, relative error: 5.911544e-06\n",
      "numerical: -0.046937 analytic: -0.046937, relative error: 7.021588e-07\n",
      "numerical: -4.909942 analytic: -4.909943, relative error: 1.247415e-08\n",
      "numerical: 5.540678 analytic: 5.540678, relative error: 1.923408e-08\n",
      "numerical: -1.086082 analytic: -1.086082, relative error: 7.603220e-08\n",
      "numerical: 0.268299 analytic: 0.268299, relative error: 1.823703e-07\n",
      "numerical: -1.267299 analytic: -1.267299, relative error: 2.847966e-08\n",
      "numerical: -0.093053 analytic: -0.093053, relative error: 2.613776e-07\n",
      "numerical: -2.003396 analytic: -2.003396, relative error: 1.485828e-08\n",
      "numerical: 1.227645 analytic: 1.227645, relative error: 6.666359e-08\n",
      "numerical: 1.919858 analytic: 1.919858, relative error: 7.623827e-09\n",
      "numerical: 2.640070 analytic: 2.640070, relative error: 2.051436e-08\n",
      "numerical: 0.273200 analytic: 0.273200, relative error: 8.133802e-08\n",
      "numerical: -1.296659 analytic: -1.296659, relative error: 8.959870e-09\n",
      "numerical: 0.313076 analytic: 0.313076, relative error: 2.981979e-09\n",
      "numerical: 1.153158 analytic: 1.153158, relative error: 2.993468e-08\n",
      "numerical: -2.406677 analytic: -2.406677, relative error: 1.291655e-09\n",
      "numerical: -1.165331 analytic: -1.165331, relative error: 6.258963e-08\n"
     ]
    }
   ],
   "source": [
    "# Complete the implementation of softmax_loss_naive and implement a (naive)\n",
    "# version of the gradient that uses nested loops.\n",
    "loss, grad = softmax_loss_naive(W, X_dev, y_dev, 0.0)\n",
    "\n",
    "# As we did for the SVM, use numeric gradient checking as a debugging tool.\n",
    "# The numeric gradient should be close to the analytic gradient.\n",
    "from cs231n.gradient_check import grad_check_sparse\n",
    "f = lambda w: softmax_loss_naive(w, X_dev, y_dev, 0.0)[0]\n",
    "grad_numerical = grad_check_sparse(f, W, grad, 10)\n",
    "\n",
    "# similar to SVM case, do another gradient check with regularization\n",
    "loss, grad = softmax_loss_naive(W, X_dev, y_dev, 5e1)\n",
    "f = lambda w: softmax_loss_naive(w, X_dev, y_dev, 5e1)[0]\n",
    "grad_numerical = grad_check_sparse(f, W, grad, 10)"
   ]
  },
  {
   "cell_type": "code",
   "execution_count": 8,
   "metadata": {
    "collapsed": false
   },
   "outputs": [
    {
     "name": "stdout",
     "output_type": "stream",
     "text": [
      "naive loss: 2.334339e+00 computed in 0.086999s\n",
      "vectorized loss: 2.334339e+00 computed in 0.060995s\n",
      "Loss difference: 0.000000\n",
      "Gradient difference: 0.000000\n"
     ]
    }
   ],
   "source": [
    "# Now that we have a naive implementation of the softmax loss function and its gradient,\n",
    "# implement a vectorized version in softmax_loss_vectorized.\n",
    "# The two versions should compute the same results, but the vectorized version should be\n",
    "# much faster.\n",
    "tic = time.time()\n",
    "loss_naive, grad_naive = softmax_loss_naive(W, X_dev, y_dev, 0.000005)\n",
    "toc = time.time()\n",
    "print('naive loss: %e computed in %fs' % (loss_naive, toc - tic))\n",
    "\n",
    "from cs231n.classifiers.softmax import softmax_loss_vectorized\n",
    "tic = time.time()\n",
    "loss_vectorized, grad_vectorized = softmax_loss_vectorized(W, X_dev, y_dev, 0.000005)\n",
    "toc = time.time()\n",
    "print('vectorized loss: %e computed in %fs' % (loss_vectorized, toc - tic))\n",
    "\n",
    "# As we did for the SVM, we use the Frobenius norm to compare the two versions\n",
    "# of the gradient.\n",
    "grad_difference = np.linalg.norm(grad_naive - grad_vectorized, ord='fro')\n",
    "print('Loss difference: %f' % np.abs(loss_naive - loss_vectorized))\n",
    "print('Gradient difference: %f' % grad_difference)"
   ]
  },
  {
   "cell_type": "code",
   "execution_count": 12,
   "metadata": {
    "collapsed": false
   },
   "outputs": [
    {
     "name": "stdout",
     "output_type": "stream",
     "text": [
      "iteration 0 / 1500: loss 778.091176\n",
      "iteration 100 / 1500: loss 10.202314\n",
      "iteration 200 / 1500: loss 2.159851\n",
      "iteration 300 / 1500: loss 2.102503\n",
      "iteration 400 / 1500: loss 2.036319\n",
      "iteration 500 / 1500: loss 2.102843\n",
      "iteration 600 / 1500: loss 2.157128\n",
      "iteration 700 / 1500: loss 2.137210\n",
      "iteration 800 / 1500: loss 2.093415\n",
      "iteration 900 / 1500: loss 2.119742\n",
      "iteration 1000 / 1500: loss 2.060352\n",
      "iteration 1100 / 1500: loss 2.074214\n",
      "iteration 1200 / 1500: loss 2.098792\n",
      "iteration 1300 / 1500: loss 2.091826\n",
      "iteration 1400 / 1500: loss 2.031669\n",
      "lr 4.500000e-07 reg 2.500000e+04 train accuracy: 0.320367 val accuracy: 0.336000\n",
      "iteration 0 / 1500: loss 622.590209\n",
      "iteration 100 / 1500: loss 18.276878\n",
      "iteration 200 / 1500: loss 2.475126\n",
      "iteration 300 / 1500: loss 2.092292\n",
      "iteration 400 / 1500: loss 2.027911\n",
      "iteration 500 / 1500: loss 2.096269\n",
      "iteration 600 / 1500: loss 1.995903\n",
      "iteration 700 / 1500: loss 2.142214\n",
      "iteration 800 / 1500: loss 1.997739\n",
      "iteration 900 / 1500: loss 2.067903\n",
      "iteration 1000 / 1500: loss 2.060465\n",
      "iteration 1100 / 1500: loss 2.052637\n",
      "iteration 1200 / 1500: loss 2.068593\n",
      "iteration 1300 / 1500: loss 2.098377\n",
      "iteration 1400 / 1500: loss 2.107762\n",
      "lr 4.500000e-07 reg 2.000000e+04 train accuracy: 0.339367 val accuracy: 0.358000\n",
      "iteration 0 / 1500: loss 776.801512\n",
      "iteration 100 / 1500: loss 15.542330\n",
      "iteration 200 / 1500: loss 2.357795\n",
      "iteration 300 / 1500: loss 2.113511\n",
      "iteration 400 / 1500: loss 2.068810\n",
      "iteration 500 / 1500: loss 2.054913\n",
      "iteration 600 / 1500: loss 2.068438\n",
      "iteration 700 / 1500: loss 2.091765\n",
      "iteration 800 / 1500: loss 2.067104\n",
      "iteration 900 / 1500: loss 2.030932\n",
      "iteration 1000 / 1500: loss 2.141974\n",
      "iteration 1100 / 1500: loss 2.091947\n",
      "iteration 1200 / 1500: loss 2.117600\n",
      "iteration 1300 / 1500: loss 2.116078\n",
      "iteration 1400 / 1500: loss 2.088862\n",
      "lr 4.000000e-07 reg 2.500000e+04 train accuracy: 0.325837 val accuracy: 0.347000\n",
      "iteration 0 / 1500: loss 626.292507\n",
      "iteration 100 / 1500: loss 26.531043\n",
      "iteration 200 / 1500: loss 2.985917\n",
      "iteration 300 / 1500: loss 2.127276\n",
      "iteration 400 / 1500: loss 2.044004\n",
      "iteration 500 / 1500: loss 2.043225\n",
      "iteration 600 / 1500: loss 2.094606\n",
      "iteration 700 / 1500: loss 2.051934\n",
      "iteration 800 / 1500: loss 2.042316\n",
      "iteration 900 / 1500: loss 2.074866\n",
      "iteration 1000 / 1500: loss 2.075146\n",
      "iteration 1100 / 1500: loss 2.039914\n",
      "iteration 1200 / 1500: loss 2.118143\n",
      "iteration 1300 / 1500: loss 2.035999\n",
      "iteration 1400 / 1500: loss 2.062719\n",
      "lr 4.000000e-07 reg 2.000000e+04 train accuracy: 0.331796 val accuracy: 0.349000\n",
      "lr 4.000000e-07 reg 2.000000e+04 train accuracy: 0.331796 val accuracy: 0.349000\n",
      "lr 4.000000e-07 reg 2.500000e+04 train accuracy: 0.325837 val accuracy: 0.347000\n",
      "lr 4.500000e-07 reg 2.000000e+04 train accuracy: 0.339367 val accuracy: 0.358000\n",
      "lr 4.500000e-07 reg 2.500000e+04 train accuracy: 0.320367 val accuracy: 0.336000\n",
      "best validation accuracy achieved during cross-validation: 0.358000\n"
     ]
    }
   ],
   "source": [
    "# Use the validation set to tune hyperparameters (regularization strength and\n",
    "# learning rate). You should experiment with different ranges for the learning\n",
    "# rates and regularization strengths; if you are careful you should be able to\n",
    "# get a classification accuracy of over 0.35 on the validation set.\n",
    "from cs231n.classifiers import Softmax\n",
    "results = {}\n",
    "best_val = -1\n",
    "best_softmax = None\n",
    "learning_rates = [4.5e-7, 4e-7]\n",
    "regularization_strengths = [2.5e4, 2e4]\n",
    "\n",
    "################################################################################\n",
    "# TODO:                                                                        #\n",
    "# Use the validation set to set the learning rate and regularization strength. #\n",
    "# This should be identical to the validation that you did for the SVM; save    #\n",
    "# the best trained softmax classifer in best_softmax.                          #\n",
    "################################################################################\n",
    "for lr in learning_rates:\n",
    "    for reg in regularization_strengths:\n",
    "        softmax = Softmax()\n",
    "        softmax.train(X_train, y_train, lr, reg, num_iters=1500, verbose=True)\n",
    "        y_train_pred = softmax.predict(X_train)\n",
    "        train_accuracy = np.mean(y_train == y_train_pred)\n",
    "        y_val_pred = softmax.predict(X_val)\n",
    "        val_accuracy = np.mean(y_val == y_val_pred)\n",
    "        results[(lr, reg)] = (train_accuracy, val_accuracy)\n",
    "        print('lr %e reg %e train accuracy: %f val accuracy: %f' % (\n",
    "                lr, reg, train_accuracy, val_accuracy))\n",
    "        if val_accuracy > best_val:\n",
    "            best_val = val_accuracy\n",
    "            best_softmax = softmax\n",
    "################################################################################\n",
    "#                              END OF YOUR CODE                                #\n",
    "################################################################################\n",
    "    \n",
    "# Print out results.\n",
    "for lr, reg in sorted(results):\n",
    "    train_accuracy, val_accuracy = results[(lr, reg)]\n",
    "    print('lr %e reg %e train accuracy: %f val accuracy: %f' % (\n",
    "                lr, reg, train_accuracy, val_accuracy))\n",
    "    \n",
    "print('best validation accuracy achieved during cross-validation: %f' % best_val)"
   ]
  },
  {
   "cell_type": "code",
   "execution_count": 13,
   "metadata": {
    "collapsed": false
   },
   "outputs": [
    {
     "name": "stdout",
     "output_type": "stream",
     "text": [
      "softmax on raw pixels final test set accuracy: 0.342000\n"
     ]
    }
   ],
   "source": [
    "# evaluate on test set\n",
    "# Evaluate the best softmax on test set\n",
    "y_test_pred = best_softmax.predict(X_test)\n",
    "test_accuracy = np.mean(y_test == y_test_pred)\n",
    "print('softmax on raw pixels final test set accuracy: %f' % (test_accuracy, ))"
   ]
  },
  {
   "cell_type": "markdown",
   "metadata": {},
   "source": [
    "**Inline Question** - *True or False*\n",
    "\n",
    "It's possible to add a new datapoint to a training set that would leave the SVM loss unchanged, but this is not the case with the Softmax classifier loss.\n",
    "\n",
    "*Your answer*: True\n",
    "\n",
    "*Your explanation*: Under SVM, if the new datapoint is calculated to have the value for correct class outnumbering other classes by a large margin (larger than the threshold), then the SVM loss will be left unchanged, as it will contribute 0 to the final loss. However under Softmax, every datapoint's calculated value for each class is being process through a pipeline of exp(), log(), etc., that will definitely change the final loss result."
   ]
  },
  {
   "cell_type": "code",
   "execution_count": 14,
   "metadata": {
    "collapsed": false
   },
   "outputs": [
    {
     "data": {
      "image/png": "[encoded data removed]",
      "text/plain": [
       "<matplotlib.figure.Figure at 0x7f68908e7710>"
      ]
     },
     "metadata": {},
     "output_type": "display_data"
    }
   ],
   "source": [
    "# Visualize the learned weights for each class\n",
    "w = best_softmax.W[:-1,:] # strip out the bias\n",
    "w = w.reshape(32, 32, 3, 10)\n",
    "\n",
    "w_min, w_max = np.min(w), np.max(w)\n",
    "\n",
    "classes = ['plane', 'car', 'bird', 'cat', 'deer', 'dog', 'frog', 'horse', 'ship', 'truck']\n",
    "for i in range(10):\n",
    "    plt.subplot(2, 5, i + 1)\n",
    "    \n",
    "    # Rescale the weights to be between 0 and 255\n",
    "    wimg = 255.0 * (w[:, :, :, i].squeeze() - w_min) / (w_max - w_min)\n",
    "    plt.imshow(wimg.astype('uint8'))\n",
    "    plt.axis('off')\n",
    "    plt.title(classes[i])"
   ]
  },
  {
   "cell_type": "code",
   "execution_count": null,
   "metadata": {
    "collapsed": true
   },
   "outputs": [],
   "source": []
  }
 ],
 "metadata": {
  "kernelspec": {
   "display_name": "Python 3",
   "language": "python",
   "name": "python3"
  },
  "language_info": {
   "codemirror_mode": {
    "name": "ipython",
    "version": 3
   },
   "file_extension": ".py",
   "mimetype": "text/x-python",
   "name": "python",
   "nbconvert_exporter": "python",
   "pygments_lexer": "ipython3",
   "version": "3.6.5"
  }
 },
 "nbformat": 4,
 "nbformat_minor": 1
}
